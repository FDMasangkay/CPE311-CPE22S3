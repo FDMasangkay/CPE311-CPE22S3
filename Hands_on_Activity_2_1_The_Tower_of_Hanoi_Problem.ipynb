{
  "nbformat": 4,
  "nbformat_minor": 0,
  "metadata": {
    "colab": {
      "provenance": [],
      "authorship_tag": "ABX9TyPaLjG36ikR5k0BR+b5yImR",
      "include_colab_link": true
    },
    "kernelspec": {
      "name": "python3",
      "display_name": "Python 3"
    },
    "language_info": {
      "name": "python"
    }
  },
  "cells": [
    {
      "cell_type": "markdown",
      "metadata": {
        "id": "view-in-github",
        "colab_type": "text"
      },
      "source": [
        "<a href=\"https://colab.research.google.com/github/FDMasangkay/CPE311-CPE22S3/blob/main/Hands_on_Activity_2_1_The_Tower_of_Hanoi_Problem.ipynb\" target=\"_parent\"><img src=\"https://colab.research.google.com/assets/colab-badge.svg\" alt=\"Open In Colab\"/></a>"
      ]
    },
    {
      "cell_type": "code",
      "source": [
        "def tower_of_hanoi(n):\n",
        "    # I create three towers that will store the values from start and temporary to achieve the transfer of data.\n",
        "    source = list(range(n, 0, -1))\n",
        "    auxiliary = []\n",
        "    destination = []\n",
        "\n",
        "    total_moves = 2**n - 1  # Total number of moves needed\n",
        "\n",
        "    for move in range(total_moves):\n",
        "        if move % 3 == 0:  # Move between source and destination\n",
        "            if source and (not destination or source[-1] < destination[-1]): # Check if the there's a disk, and either the other empty lists is empty or top disk is smaller than the other's top disk\n",
        "                disk = source.pop()  # Remove disk from top of source\n",
        "                destination.append(disk)  # Add disk to top of destination\n",
        "                print(f\"Move disk {disk} from source to destination\")\n",
        "            else:\n",
        "                disk = destination.pop()\n",
        "                source.append(disk)\n",
        "                print(f\"Move disk {disk} from destination to source\")\n",
        "\n",
        "        elif move % 3 == 1:  # Move between source and auxiliary\n",
        "            if source and (not auxiliary or source[-1] < auxiliary[-1]):\n",
        "                disk = source.pop()\n",
        "                auxiliary.append(disk)\n",
        "                print(f\"Move disk {disk} from source to auxiliary\")\n",
        "            else:\n",
        "                disk = auxiliary.pop()\n",
        "                source.append(disk)\n",
        "                print(f\"Move disk {disk} from auxiliary to source\")\n",
        "\n",
        "        else:  # Move between auxiliary and destination\n",
        "            if auxiliary and (not destination or auxiliary[-1] < destination[-1]):\n",
        "                disk = auxiliary.pop()\n",
        "                destination.append(disk)\n",
        "                print(f\"Move disk {disk} from auxiliary to destination\")\n",
        "            else:\n",
        "                disk = destination.pop()\n",
        "                auxiliary.append(disk)\n",
        "                print(f\"Move disk {disk} from destination to auxiliary\")\n",
        "\n",
        "# Get input and solve\n",
        "n = int(input(\"Enter the number of disks: \"))\n",
        "tower_of_hanoi(n)"
      ],
      "metadata": {
        "colab": {
          "base_uri": "https://localhost:8080/"
        },
        "id": "Dz7v3b_T0gwW",
        "outputId": "8b5f9b62-73d6-45c1-e6aa-356e237cbcf8"
      },
      "execution_count": 7,
      "outputs": [
        {
          "output_type": "stream",
          "name": "stdout",
          "text": [
            "Enter the number of disks: 3\n",
            "Move disk 1 from source to destination\n",
            "Move disk 2 from source to auxiliary\n",
            "Move disk 1 from destination to auxiliary\n",
            "Move disk 3 from source to destination\n",
            "Move disk 1 from auxiliary to source\n",
            "Move disk 2 from auxiliary to destination\n",
            "Move disk 1 from source to destination\n"
          ]
        }
      ]
    },
    {
      "cell_type": "code",
      "source": [
        "def tower_of_hanoi(n, source, auxiliary, destination):\n",
        "    # If there's only one disk, move it from source to destination\n",
        "    if n == 1:\n",
        "        print(f\"Move disk 1 from {source} to {destination}\")\n",
        "        return\n",
        "\n",
        "    # Move n-1 disks from source to auxiliary\n",
        "    tower_of_hanoi(n-1, source, destination, auxiliary)\n",
        "\n",
        "    # Move the nth disk from source to destination\n",
        "    print(f\"Move disk {n} from {source} to {destination}\")\n",
        "\n",
        "    # Move the n-1 disks from auxiliary to destination\n",
        "    tower_of_hanoi(n-1, auxiliary, source, destination)\n",
        "\n",
        "# Input the number of disks\n",
        "n = int(input(\"Enter the number of disks: \"))\n",
        "\n",
        "\n",
        "tower_of_hanoi(n, 'source', 'auxiliary', 'destination')\n"
      ],
      "metadata": {
        "colab": {
          "base_uri": "https://localhost:8080/"
        },
        "id": "rAk9zC7w6DvQ",
        "outputId": "e8e6be42-f1c7-40c2-af13-0b4f93cd43f2"
      },
      "execution_count": null,
      "outputs": [
        {
          "output_type": "stream",
          "name": "stdout",
          "text": [
            "Enter the number of disks: 3\n",
            "Move disk 1 from source to destination\n",
            "Move disk 2 from source to auxiliary\n",
            "Move disk 1 from destination to auxiliary\n",
            "Move disk 3 from source to destination\n",
            "Move disk 1 from auxiliary to source\n",
            "Move disk 2 from auxiliary to destination\n",
            "Move disk 1 from source to destination\n"
          ]
        }
      ]
    }
  ]
}