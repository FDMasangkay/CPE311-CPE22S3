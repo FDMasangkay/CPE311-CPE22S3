{
  "nbformat": 4,
  "nbformat_minor": 0,
  "metadata": {
    "colab": {
      "provenance": [],
      "authorship_tag": "ABX9TyPr2+0CTtup+ChreAE+rory",
      "include_colab_link": true
    },
    "kernelspec": {
      "name": "python3",
      "display_name": "Python 3"
    },
    "language_info": {
      "name": "python"
    }
  },
  "cells": [
    {
      "cell_type": "markdown",
      "metadata": {
        "id": "view-in-github",
        "colab_type": "text"
      },
      "source": [
        "<a href=\"https://colab.research.google.com/github/FDMasangkay/CPE311-CPE22S3/blob/main/Hands_on_Activity_2_1_The_Tower_of_Hanoi_Problem.ipynb\" target=\"_parent\"><img src=\"https://colab.research.google.com/assets/colab-badge.svg\" alt=\"Open In Colab\"/></a>"
      ]
    },
    {
      "cell_type": "code",
      "execution_count": 19,
      "metadata": {
        "colab": {
          "base_uri": "https://localhost:8080/"
        },
        "id": "JfLnBr3E5CsU",
        "outputId": "19cf2946-6021-4763-bd19-f4e330e32201"
      },
      "outputs": [
        {
          "output_type": "stream",
          "name": "stdout",
          "text": [
            "Enter the number of disks: 3\n",
            "Move disk 1 from 0 to 2\n",
            "Move disk 2 from 0 to 1\n",
            "Move disk 1 from 2 to 1\n",
            "Move disk 3 from 0 to 2\n",
            "Move disk 1 from 1 to 0\n",
            "Move disk 2 from 1 to 2\n",
            "Move disk 1 from 0 to 2\n"
          ]
        }
      ],
      "source": [
        "def move_disk(from_peg, to_peg):\n",
        "    disk = pegs[from_peg].pop()\n",
        "    pegs[to_peg].append(disk)\n",
        "    print(f\"Move disk {disk} from {from_peg} to {to_peg}\")\n",
        "\n",
        "def iterative_hanoi(total_moves, source, auxiliary, destination):\n",
        "    for move_num in range(1, total_moves + 1):\n",
        "        # The move sequence is cyclic: (source, destination), (source, auxiliary), (auxiliary, destination)\n",
        "        if move_num % 3 == 1:\n",
        "            from_peg, to_peg = source, destination\n",
        "        elif move_num % 3 == 2:\n",
        "            from_peg, to_peg = source, auxiliary\n",
        "        else:\n",
        "            from_peg, to_peg = auxiliary, destination\n",
        "\n",
        "        # Make the move if valid (source peg should not be empty and disk should be smaller than the destination)\n",
        "        if pegs[from_peg] and (not pegs[to_peg] or pegs[from_peg][-1] < pegs[to_peg][-1]):\n",
        "            move_disk(from_peg, to_peg)\n",
        "        else:\n",
        "            # If the above condition fails, move in the reverse direction\n",
        "            move_disk(to_peg, from_peg)\n",
        "\n",
        "# Get user input for the number of disks\n",
        "num_disks = int(input(\"Enter the number of disks: \"))\n",
        "\n",
        "# Initialize the pegs\n",
        "pegs = {0: list(range(num_disks, 0, -1)), 1: [], 2: []}  # Fill peg 0 with disks from num_disks down to 1\n",
        "\n",
        "# Calculate the total number of moves required for the Tower of Hanoi solution\n",
        "total_moves = (2 ** num_disks) - 1  # Total moves for Tower of Hanoi with num_disks\n",
        "\n",
        "# Call the iterative Hanoi function\n",
        "iterative_hanoi(total_moves, 0, 1, 2)\n"
      ]
    },
    {
      "cell_type": "code",
      "source": [
        "def tower_of_hanoi(n, source, auxiliary, destination):\n",
        "    # If there's only one disk, move it from source to destination\n",
        "    if n == 1:\n",
        "        print(f\"Move disk 1 from {source} to {destination}\")\n",
        "        return\n",
        "\n",
        "    # Move n-1 disks from source to auxiliary\n",
        "    tower_of_hanoi(n-1, source, destination, auxiliary)\n",
        "\n",
        "    # Move the nth disk from source to destination\n",
        "    print(f\"Move disk {n} from {source} to {destination}\")\n",
        "\n",
        "    # Move the n-1 disks from auxiliary to destination\n",
        "    tower_of_hanoi(n-1, auxiliary, source, destination)\n",
        "\n",
        "# Input the number of disks\n",
        "n = int(input(\"Enter the number of disks: \"))\n",
        "\n",
        "\n",
        "tower_of_hanoi(n, 'source', 'auxiliary', 'destination')\n"
      ],
      "metadata": {
        "colab": {
          "base_uri": "https://localhost:8080/"
        },
        "id": "rAk9zC7w6DvQ",
        "outputId": "e8e6be42-f1c7-40c2-af13-0b4f93cd43f2"
      },
      "execution_count": 13,
      "outputs": [
        {
          "output_type": "stream",
          "name": "stdout",
          "text": [
            "Enter the number of disks: 3\n",
            "Move disk 1 from source to destination\n",
            "Move disk 2 from source to auxiliary\n",
            "Move disk 1 from destination to auxiliary\n",
            "Move disk 3 from source to destination\n",
            "Move disk 1 from auxiliary to source\n",
            "Move disk 2 from auxiliary to destination\n",
            "Move disk 1 from source to destination\n"
          ]
        }
      ]
    }
  ]
}