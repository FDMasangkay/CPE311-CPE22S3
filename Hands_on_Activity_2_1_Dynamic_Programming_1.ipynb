{
  "cells": [
    {
      "cell_type": "markdown",
      "metadata": {
        "id": "view-in-github",
        "colab_type": "text"
      },
      "source": [
        "<a href=\"https://colab.research.google.com/github/FDMasangkay/CPE311-CPE22S3/blob/main/Hands_on_Activity_2_1_Dynamic_Programming_1.ipynb\" target=\"_parent\"><img src=\"https://colab.research.google.com/assets/colab-badge.svg\" alt=\"Open In Colab\"/></a>"
      ]
    },
    {
      "cell_type": "markdown",
      "id": "f1c6ec95",
      "metadata": {
        "id": "f1c6ec95"
      },
      "source": [
        "# Hands-on Activity 2.1 : Dynamic Programming"
      ]
    },
    {
      "cell_type": "markdown",
      "id": "56dacba1",
      "metadata": {
        "id": "56dacba1"
      },
      "source": [
        "#### Objective(s):\n",
        "\n",
        "This activity aims to demonstrate how to use dynamic programming to solve problems."
      ]
    },
    {
      "cell_type": "markdown",
      "id": "e51f84e3",
      "metadata": {
        "id": "e51f84e3"
      },
      "source": [
        "#### Intended Learning Outcomes (ILOs):\n",
        "* Differentiate recursion method from dynamic programming to solve problems.\n",
        "* Demonstrate how to  solve real-world problems using dynamic programming\n"
      ]
    },
    {
      "cell_type": "markdown",
      "id": "39047b1a",
      "metadata": {
        "id": "39047b1a"
      },
      "source": [
        "#### Resources:\n",
        "* Jupyter Notebook\n"
      ]
    },
    {
      "cell_type": "markdown",
      "id": "cb5360c0",
      "metadata": {
        "id": "cb5360c0"
      },
      "source": [
        "#### Procedures:"
      ]
    },
    {
      "cell_type": "markdown",
      "id": "206a914c",
      "metadata": {
        "id": "206a914c"
      },
      "source": [
        "1. Create a code that demonstrate how to use recursion method to solve problem"
      ]
    },
    {
      "cell_type": "markdown",
      "id": "5744a876",
      "metadata": {
        "id": "5744a876"
      },
      "source": [
        "2. Create a program codes that demonstrate how to use dynamic programming to solve the same problem"
      ]
    },
    {
      "cell_type": "markdown",
      "id": "8e3f6572",
      "metadata": {
        "id": "8e3f6572"
      },
      "source": [
        "##### Question:\n",
        "Explain the difference of using the recursion from dynamic programming using the given sample codes to solve the same problem"
      ]
    },
    {
      "cell_type": "markdown",
      "id": "b5a71b53",
      "metadata": {
        "id": "b5a71b53"
      },
      "source": [
        "Type your answer here:\n",
        "\n",
        "In the recursion method, the problem was break down into smaller parts wherein we can recognize a pattern, this way the program will solve it repeatedly. On the other hand, the dynamic programming stores the previous result to check or resuse it again to make the computing faster if the value needed for the new computation was already been done.\n",
        "\n",
        "\n",
        "\n"
      ]
    },
    {
      "cell_type": "markdown",
      "id": "60074702",
      "metadata": {
        "id": "60074702"
      },
      "source": [
        "3. Create a sample program codes to simulate bottom-up dynamic programming"
      ]
    },
    {
      "cell_type": "markdown",
      "id": "e629eb89",
      "metadata": {
        "id": "e629eb89"
      },
      "source": [
        "4. Create a sample program codes that simulate tops-down dynamic programming"
      ]
    },
    {
      "cell_type": "markdown",
      "id": "c2e2434c",
      "metadata": {
        "id": "c2e2434c"
      },
      "source": [
        "#### Question:\n",
        " Explain the difference between bottom-up from top-down dynamic programming using the given sample codes"
      ]
    },
    {
      "cell_type": "markdown",
      "id": "ac97e063",
      "metadata": {
        "id": "ac97e063"
      },
      "source": [
        "Type your answer here:\n",
        "\n",
        "The bottom-up approach, starts from the smallest part of the problem then working way up to achieve the general objectives/goal of the program. On the other hand, the top-down approach, it starts from the general or whole problem itself then work on way down, breaking the problem into smaller part in order to solve it.\n",
        "\n",
        "\n",
        "\n",
        "\n"
      ]
    },
    {
      "cell_type": "markdown",
      "id": "f7a5bfbd",
      "metadata": {
        "id": "f7a5bfbd"
      },
      "source": [
        "0/1 Knapsack Problem\n",
        "\n",
        "* Analyze three different techniques to solve knapsacks problem\n",
        "1. Recursion\n",
        "2. Dynamic Programming\n",
        "3. Memoization"
      ]
    },
    {
      "cell_type": "code",
      "source": [
        "# sample code for knapsack problem using recursion\n",
        "def rec_knapSack(w, wt, val, n):\n",
        "  #base case\n",
        "  #defined as nth item is empty;\n",
        "  #or the capacity w is 0\n",
        "  if n == 0 or w == 0:\n",
        "    return 0\n",
        "\n",
        "  #if weight of the nth item is more than\n",
        "  #the capacity W, then this item cannot be included\n",
        "  #as part of the optimal solution\n",
        "  if(wt[n-1] > w):\n",
        "    return rec_knapSack(w, wt, val, n-1)\n",
        "\n",
        "  #return the maximum of the two cases:\n",
        "  # (1) include the nth item\n",
        "  # (2) don't include the nth item\n",
        "  else:\n",
        "    return max(\n",
        "        val[n-1] + rec_knapSack(\n",
        "            w-wt[n-1], wt, val, n-1),\n",
        "            rec_knapSack(w, wt, val, n-1)\n",
        "    )"
      ],
      "metadata": {
        "id": "15SVHF85_1Ji"
      },
      "id": "15SVHF85_1Ji",
      "execution_count": 18,
      "outputs": []
    },
    {
      "cell_type": "code",
      "source": [
        "#To test:\n",
        "val = [60, 100, 120] #values for the items\n",
        "wt = [10, 20, 30] #weight of the items\n",
        "w = 50 #knapsack weight capacity\n",
        "n = len(val) #number of items\n",
        "\n",
        "rec_knapSack(w, wt, val, n)"
      ],
      "metadata": {
        "colab": {
          "base_uri": "https://localhost:8080/"
        },
        "id": "b1D3YRJ7cMqU",
        "outputId": "788d87c8-0d84-4dd6-dfcf-1206fa495812"
      },
      "id": "b1D3YRJ7cMqU",
      "execution_count": null,
      "outputs": [
        {
          "output_type": "execute_result",
          "data": {
            "text/plain": [
              "220"
            ]
          },
          "metadata": {},
          "execution_count": 27
        }
      ]
    },
    {
      "cell_type": "code",
      "source": [
        "#Dynamic Programming for the Knapsack Problem\n",
        "def DP_knapSack(w, wt, val, n):\n",
        "  #create the table\n",
        "  table = [[0 for x in range(w+1)] for x in range (n+1)]\n",
        "\n",
        "  #populate the table in a bottom-up approach\n",
        "  for i in range(n+1):\n",
        "    for w in range(w+1):\n",
        "      if i == 0 or w == 0:\n",
        "        table[i][w] = 0\n",
        "      elif wt[i-1] <= w:\n",
        "        table[i][w] = max(val[i-1] + table[i-1][w-wt[i-1]],\n",
        "                          table[i-1][w])\n",
        "  return table[n][w]"
      ],
      "metadata": {
        "id": "A8OU1sUJ_1ES"
      },
      "id": "A8OU1sUJ_1ES",
      "execution_count": null,
      "outputs": []
    },
    {
      "cell_type": "code",
      "source": [
        "#To test:\n",
        "val = [60, 100, 120]\n",
        "wt = [10, 20, 30]\n",
        "w = 50\n",
        "n = len(val)\n",
        "\n",
        "DP_knapSack(w, wt, val, n)"
      ],
      "metadata": {
        "colab": {
          "base_uri": "https://localhost:8080/"
        },
        "id": "GUNeEPHrd-N1",
        "outputId": "4829e602-248b-48f8-cbd3-e75c4d87d3b6"
      },
      "id": "GUNeEPHrd-N1",
      "execution_count": null,
      "outputs": [
        {
          "output_type": "execute_result",
          "data": {
            "text/plain": [
              "220"
            ]
          },
          "metadata": {},
          "execution_count": 29
        }
      ]
    },
    {
      "cell_type": "code",
      "source": [
        "#Sample for top-down DP approach (memoization)\n",
        "#initialize the list of items\n",
        "val = [60, 100, 120]\n",
        "wt = [10, 20, 30]\n",
        "w = 50\n",
        "n = len(val)\n",
        "\n",
        "#initialize the container for the values that have to be stored\n",
        "#values are initialized to -1\n",
        "calc =[[-1 for i in range(w+1)] for j in range(n+1)]\n",
        "\n",
        "\n",
        "def mem_knapSack(wt, val, w, n):\n",
        "  #base conditions\n",
        "  if n == 0 or w == 0:\n",
        "    return 0\n",
        "  if calc[n][w] != -1:\n",
        "    return calc[n][w]\n",
        "\n",
        "  #compute for the other cases\n",
        "  if wt[n-1] <= w:\n",
        "    calc[n][w] = max(val[n-1] + mem_knapSack(wt, val, w-wt[n-1], n-1),\n",
        "                     mem_knapSack(wt, val, w, n-1))\n",
        "    return calc[n][w]\n",
        "  elif wt[n-1] > w:\n",
        "    calc[n][w] = mem_knapSack(wt, val, w, n-1)\n",
        "    return calc[n][w]\n",
        "\n",
        "mem_knapSack(wt, val, w, n)"
      ],
      "metadata": {
        "id": "VgwTX-XT_0_h",
        "colab": {
          "base_uri": "https://localhost:8080/"
        },
        "outputId": "6f3c2cc6-01fc-433a-ae1e-cbb99976c028"
      },
      "id": "VgwTX-XT_0_h",
      "execution_count": null,
      "outputs": [
        {
          "output_type": "execute_result",
          "data": {
            "text/plain": [
              "220"
            ]
          },
          "metadata": {},
          "execution_count": 31
        }
      ]
    },
    {
      "cell_type": "markdown",
      "source": [
        "**Code Analysis**\n",
        "\n",
        "Type your answer here."
      ],
      "metadata": {
        "id": "-UXSSblDcF8T"
      },
      "id": "-UXSSblDcF8T"
    },
    {
      "cell_type": "markdown",
      "source": [
        "## Seatwork 2.1"
      ],
      "metadata": {
        "id": "IGsdUGCUcTFd"
      },
      "id": "IGsdUGCUcTFd"
    },
    {
      "cell_type": "markdown",
      "id": "0462053d",
      "metadata": {
        "id": "0462053d"
      },
      "source": [
        "Task 1: Modify the three techniques to include additional criterion in the knapsack problems"
      ]
    },
    {
      "cell_type": "code",
      "execution_count": 42,
      "id": "ed2f6186",
      "metadata": {
        "id": "ed2f6186",
        "colab": {
          "base_uri": "https://localhost:8080/"
        },
        "outputId": "cc3432fc-92be-48f5-a136-531563af10c7"
      },
      "outputs": [
        {
          "output_type": "execute_result",
          "data": {
            "text/plain": [
              "120"
            ]
          },
          "metadata": {},
          "execution_count": 42
        }
      ],
      "source": [
        "#type your code here\n",
        "#Recursion\n",
        "\n",
        "def rec_knapSack(w, wt, val, n, min_value):\n",
        "  #base case\n",
        "  #defined as nth item is empty;\n",
        "  #or the capacity w is 0\n",
        "  if n == 0 or w == 0:\n",
        "        return 0\n",
        "\n",
        "  #if weight of nth item is more than\n",
        "  #the capacity w, it can't be included\n",
        "  #as part of the optimal solution\n",
        "  if wt[n-1] > w:\n",
        "      return rec_knapSack(w, wt, val, n-1, min_value)\n",
        "\n",
        "  # If the value of nth item is less than the minimum value constraint, skip it\n",
        "  if val[n-1] < min_value:\n",
        "      return rec_knapSack(w, wt, val, n-1, min_value)\n",
        "\n",
        "  #return the maximum of the two cases:\n",
        "  # (1) include the nth item\n",
        "  # (2) don't include the nth item\n",
        "  else:\n",
        "      return max(\n",
        "          val[n-1] + rec_knapSack(w-wt[n-1], wt, val, n-1, min_value),\n",
        "          rec_knapSack(w, wt, val, n-1, min_value)\n",
        "      )\n",
        "\n",
        "# To Test:\n",
        "val = [60, 100, 120] #values for the items\n",
        "wt = [10, 20, 30] #weight of the items\n",
        "w = 50 #knapsack weight capacity\n",
        "n = len(val) #number of items\n",
        "min_value = 110  # Minimum value constraint\n",
        "\n",
        "rec_knapSack(w, wt, val, n, min_value)\n",
        "\n",
        "\n",
        "#Dynamic\n",
        "\n",
        "def DP_knapSack(w, wt, val, n, min_value):\n",
        "  #create the table\n",
        "    table = [[0 for _ in range(w + 1)] for _ in range(n + 1)]\n",
        "\n",
        "    # Iterate over each item (1 to n) and each knapsack weight capacity (0 to w)\n",
        "    for i in range(1, n + 1):\n",
        "        for weight in range(1, w + 1):\n",
        "            # If the value of the current item is less than the minimum value constraint, skip it\n",
        "            if val[i - 1] < min_value:\n",
        "                table[i][weight] = table[i - 1][weight]\n",
        "            else:\n",
        "                # If the item can fit into the knapsack, take the maximum of including or excluding the item\n",
        "                if wt[i - 1] <= weight:\n",
        "                    table[i][weight] = max(\n",
        "                        val[i - 1] + table[i - 1][weight - wt[i - 1]],\n",
        "                        table[i - 1][weight]\n",
        "                    )\n",
        "                else:\n",
        "                    table[i][weight] = table[i - 1][weight]  # Cannot include the item, exclude it\n",
        "\n",
        "    return table[n][w]\n",
        "\n",
        "# To Test:\n",
        "val = [60, 100, 120]  # values for the items\n",
        "wt = [10, 20, 30]     # weights of the items\n",
        "w = 50                # knapsack weight capacity\n",
        "n = len(val)          # number of items\n",
        "min_value = 110       # Minimum value constraint\n",
        "\n",
        "DP_knapSack(w, wt, val, n, min_value)\n",
        "\n",
        "#Memoization\n",
        "\n",
        "#Sample for top-down DP approach (memoization)\n",
        "#initialize the list of items\n",
        "val = [60, 100, 120]\n",
        "wt = [10, 20, 30]\n",
        "w = 50\n",
        "n = len(val)\n",
        "min_value = 110\n",
        "\n",
        "#initialize the container for the values that have to be stored\n",
        "#values are initialized to -1\n",
        "calc = [[-1 for i in range(w + 1)] for j in range(n + 1)]\n",
        "\n",
        "def mem_knapSack(wt, val, w, n, min_value):\n",
        "    # Base conditions\n",
        "    if n == 0 or w == 0:\n",
        "        return 0\n",
        "    if calc[n][w] != -1:\n",
        "        return calc[n][w]\n",
        "\n",
        "    # Compute for the other cases\n",
        "    if val[n - 1] < min_value:\n",
        "        calc[n][w] = mem_knapSack(wt, val, w, n - 1, min_value)\n",
        "        return calc[n][w]\n",
        "    elif wt[n - 1] <= w:\n",
        "        calc[n][w] = max(val[n - 1] + mem_knapSack(wt, val, w - wt[n - 1], n - 1, min_value),\n",
        "                         mem_knapSack(wt, val, w, n - 1, min_value))\n",
        "        return calc[n][w]\n",
        "    else:\n",
        "        calc[n][w] = mem_knapSack(wt, val, w, n - 1, min_value)\n",
        "        return calc[n][w]\n",
        "\n",
        "mem_knapSack(wt, val, w, n, min_value)\n",
        "\n"
      ]
    },
    {
      "cell_type": "markdown",
      "id": "d97e864e",
      "metadata": {
        "id": "d97e864e"
      },
      "source": [
        "Fibonacci Numbers"
      ]
    },
    {
      "cell_type": "code",
      "source": [],
      "metadata": {
        "id": "HoqkUdvj_2ZZ"
      },
      "id": "HoqkUdvj_2ZZ",
      "execution_count": 44,
      "outputs": []
    },
    {
      "cell_type": "markdown",
      "id": "f44e88aa",
      "metadata": {
        "id": "f44e88aa"
      },
      "source": [
        "Task 2: Create a sample program that find the nth number of Fibonacci Series using Dynamic Programming"
      ]
    },
    {
      "cell_type": "code",
      "execution_count": null,
      "id": "745871be",
      "metadata": {
        "id": "745871be",
        "colab": {
          "base_uri": "https://localhost:8080/"
        },
        "outputId": "4b09d112-1d49-4cc6-fdde-680ee9c283c7"
      },
      "outputs": [
        {
          "output_type": "stream",
          "name": "stdout",
          "text": [
            "3\n",
            "34\n",
            "610\n"
          ]
        }
      ],
      "source": [
        "#type your code here\n",
        "\n",
        "def fib_dp(n):\n",
        "      if n <= 1:\n",
        "        return [i for i in range(n + 1)]\n",
        "\n",
        "      dp = [0] * (n + 1)\n",
        "      dp[1] = 1\n",
        "\n",
        "      for i in range(2, n + 1):\n",
        "          dp[i] = dp[i-1] + dp[i-2]\n",
        "\n",
        "      return dp[n]\n",
        "\n",
        "\n",
        "print(fib_dp(4))\n",
        "print(fib_dp(9))\n",
        "print(fib_dp(15))"
      ]
    },
    {
      "cell_type": "markdown",
      "id": "070ddd75",
      "metadata": {
        "id": "070ddd75"
      },
      "source": [
        "## Supplementary Problem (HOA 2.1 Submission):\n",
        "* Choose a real-life problem\n",
        "* Use recursion and dynamic programming to solve the problem"
      ]
    },
    {
      "cell_type": "markdown",
      "source": [
        "**PROBLEM:**\n",
        "I want to know the minimun amount of coins I have to use when paying something. For example, I need to pay 25 pesos, it should return an answer of two coins.\n",
        "\n",
        "- 1 piece of 20 peso coin\n",
        "- 1 piece of 5 peso coin\n",
        "\n",
        "If the payment is 47 pesos, it should return 5 coins:\n",
        "\n",
        "- 2 pieces of 20 peso coin\n",
        "- 1 piece of 5 peso coin\n",
        "- 2 pieces of 1 peso coin"
      ],
      "metadata": {
        "id": "GPyrtaii5eBO"
      },
      "id": "GPyrtaii5eBO"
    },
    {
      "cell_type": "code",
      "execution_count": 57,
      "id": "86eef507",
      "metadata": {
        "id": "86eef507",
        "colab": {
          "base_uri": "https://localhost:8080/"
        },
        "outputId": "b78fa88a-8738-410a-875d-5725fede5d09"
      },
      "outputs": [
        {
          "output_type": "stream",
          "name": "stdout",
          "text": [
            "3\n"
          ]
        }
      ],
      "source": [
        "#type your code here for recursion programming solution\n",
        "\n",
        "def coin_change_recursive(coins, amount):\n",
        "    if amount == 0:\n",
        "        return 0\n",
        "    if amount < 0:\n",
        "        return float('inf')  # Impossible case\n",
        "\n",
        "    min_coins = float('inf')\n",
        "    for coin in coins:\n",
        "        result = coin_change_recursive(coins, amount - coin)\n",
        "        if result != float('inf'):\n",
        "            min_coins = min(min_coins, result + 1)\n",
        "\n",
        "    return min_coins\n",
        "\n",
        "# To test\n",
        "coins = [1, 5, 10, 20]\n",
        "amount = 50\n",
        "result = coin_change_recursive(coins, amount)\n",
        "print(result if result != float('inf') else -1)\n"
      ]
    },
    {
      "cell_type": "code",
      "execution_count": 55,
      "id": "73b071b6",
      "metadata": {
        "id": "73b071b6",
        "colab": {
          "base_uri": "https://localhost:8080/"
        },
        "outputId": "3076939b-75cd-4874-ce1d-e8285c08d67b"
      },
      "outputs": [
        {
          "output_type": "execute_result",
          "data": {
            "text/plain": [
              "3"
            ]
          },
          "metadata": {},
          "execution_count": 55
        }
      ],
      "source": [
        "#type your code here for dynamic programming solution\n",
        "\n",
        "def coin_change_memo(coins, amount, memo={}):\n",
        "    if amount == 0:\n",
        "        return 0\n",
        "    if amount < 0:\n",
        "        return float('inf')\n",
        "    # return the amount if its already computed\n",
        "    if amount in memo:\n",
        "        return memo[amount]\n",
        "\n",
        "    min_coins = float('inf')\n",
        "    for coin in coins:\n",
        "        result = coin_change_memo(coins, amount - coin, memo)\n",
        "        # update min_coins if the result is valid\n",
        "        if result != float('inf'):\n",
        "            min_coins = min(min_coins, result + 1)\n",
        "\n",
        "    #Store the computed result in the memo dictionary\n",
        "    memo[amount] = min_coins\n",
        "    return min_coins\n",
        "\n",
        "# To test\n",
        "coins = [1, 5, 10, 20]\n",
        "amount = 50\n",
        "\n",
        "coin_change_memo(coins, amount)"
      ]
    },
    {
      "cell_type": "markdown",
      "id": "bb0ed6a9",
      "metadata": {
        "id": "bb0ed6a9"
      },
      "source": [
        "#### Conclusion"
      ]
    },
    {
      "cell_type": "markdown",
      "source": [
        "In conclusion, the memoization approach for the knapsack problem makes the solution faster by saving the results of previous calculations, which helps avoid repeating work. By adding rules, like setting a minimum value for items, the solution can be changed to fit different needs, making it more useful in real-life situations."
      ],
      "metadata": {
        "id": "ipPPFk_mKTAY"
      },
      "id": "ipPPFk_mKTAY"
    }
  ],
  "metadata": {
    "kernelspec": {
      "display_name": "Python 3",
      "language": "python",
      "name": "python3"
    },
    "language_info": {
      "codemirror_mode": {
        "name": "ipython",
        "version": 3
      },
      "file_extension": ".py",
      "mimetype": "text/x-python",
      "name": "python",
      "nbconvert_exporter": "python",
      "pygments_lexer": "ipython3",
      "version": "3.7.10"
    },
    "colab": {
      "provenance": [],
      "include_colab_link": true
    }
  },
  "nbformat": 4,
  "nbformat_minor": 5
}