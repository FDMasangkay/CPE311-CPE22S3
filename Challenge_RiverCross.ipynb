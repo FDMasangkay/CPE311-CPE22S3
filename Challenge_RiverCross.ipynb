{
  "nbformat": 4,
  "nbformat_minor": 0,
  "metadata": {
    "colab": {
      "provenance": [],
      "include_colab_link": true
    },
    "kernelspec": {
      "name": "python3",
      "display_name": "Python 3"
    },
    "language_info": {
      "name": "python"
    }
  },
  "cells": [
    {
      "cell_type": "markdown",
      "metadata": {
        "id": "view-in-github",
        "colab_type": "text"
      },
      "source": [
        "<a href=\"https://colab.research.google.com/github/FDMasangkay/CPE311-CPE22S3/blob/main/Challenge_RiverCross.ipynb\" target=\"_parent\"><img src=\"https://colab.research.google.com/assets/colab-badge.svg\" alt=\"Open In Colab\"/></a>"
      ]
    },
    {
      "cell_type": "markdown",
      "source": [
        "Coded by: Naira Jezreel Carigo and Frederick Masangkay"
      ],
      "metadata": {
        "id": "6tvUTDMm5tPE"
      }
    },
    {
      "cell_type": "code",
      "execution_count": null,
      "metadata": {
        "colab": {
          "base_uri": "https://localhost:8080/",
          "height": 106
        },
        "id": "TLovXEb95CYW",
        "outputId": "dedfd614-f38f-40de-d4cd-c5ecce66f4d3"
      },
      "outputs": [
        {
          "output_type": "error",
          "ename": "IndentationError",
          "evalue": "expected an indented block after function definition on line 4 (<ipython-input-1-724d66ba7e57>, line 5)",
          "traceback": [
            "\u001b[0;36m  File \u001b[0;32m\"<ipython-input-1-724d66ba7e57>\"\u001b[0;36m, line \u001b[0;32m5\u001b[0m\n\u001b[0;31m    self.name = name\u001b[0m\n\u001b[0m    ^\u001b[0m\n\u001b[0;31mIndentationError\u001b[0m\u001b[0;31m:\u001b[0m expected an indented block after function definition on line 4\n"
          ]
        }
      ],
      "source": [
        "class RiverCrossing:\n",
        "\n",
        "    class People:\n",
        "        def __init__(self, name, weight):\n",
        "        self.name = name\n",
        "        self.weight = weight\n",
        "\n",
        "    def __init__(self, people, supply, boat_capacity):\n",
        "        self.people = sorted(people)  # Sort people for easier access to lowest/highest\n",
        "        self.supply = supply\n",
        "        self.boat_capacity = boat_capacity\n",
        "        self.left_side = self.people + [self.supply]\n",
        "        self.right_side = []\n",
        "        self.boat = []\n",
        "\n",
        "    def cross_river(self):\n",
        "        self.right_side.extend(self.boat)\n",
        "        self.boat.clear()\n",
        "\n",
        "    def return_to_other_side(self, person):\n",
        "        self.left_side.append(person)\n",
        "        self.right_side.remove(person)\n",
        "\n",
        "    def solve(self):\n",
        "        while self.left_side:\n",
        "            # Load the boat with as many people as possible\n",
        "            while self.left_side and sum(self.boat) + self.left_side[0] <= self.boat_capacity:\n",
        "                lowest_value = self.left_side[0]  # Get the lowest value\n",
        "                self.left_side.remove(lowest_value)  # Remove from left side\n",
        "                self.boat.append(lowest_value)  # Add to the boat\n",
        "\n",
        "            self.cross_river()\n",
        "\n",
        "            if self.left_side:\n",
        "                one_person = self.left_side[0]  # Get the next lowest value\n",
        "                self.left_side.remove(one_person)  # Remove from left side\n",
        "                self.boat.append(one_person)\n",
        "                self.cross_river()\n",
        "                self.return_to_other_side(one_person)\n",
        "\n",
        "            if self.right_side:\n",
        "                highest_value = max(self.right_side)  # Get the highest value\n",
        "                if highest_value + sum(self.boat) <= self.boat_capacity:\n",
        "                    self.right_side.remove(highest_value)\n",
        "                    self.boat.append(highest_value)\n",
        "                self.cross_river()\n",
        "\n",
        "        # Output the results\n",
        "        print(\"Left side:\", self.left_side)\n",
        "        print(\"Right side:\", self.right_side)\n",
        "\n",
        "\n",
        "# Initial setup\n",
        "people = [90, 80, 60, 40]\n",
        "supply = 20\n",
        "boat_capacity = 100\n",
        "\n",
        "# Create an instance of RiverCrossing and solve the problem\n",
        "river_crossing = RiverCrossing(people, supply, boat_capacity)\n",
        "river_crossing.solve()"
      ]
    },
    {
      "cell_type": "code",
      "source": [],
      "metadata": {
        "id": "SuOESu7PDJBd"
      },
      "execution_count": null,
      "outputs": []
    }
  ]
}