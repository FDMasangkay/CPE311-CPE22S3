{
 "cells": [
  {
   "cell_type": "code",
   "execution_count": 2,
   "id": "3e311f85-945a-49d1-9082-a7833e6970d3",
   "metadata": {},
   "outputs": [],
   "source": [
    "# Given a sequence of n real numbers A(1) ... A(n), determine a contiguous subsequence A(i) ... A(j) for which the sum of elements in the subsequence is maximized"
   ]
  },
  {
   "cell_type": "code",
   "execution_count": 306,
   "id": "90f84dbb-5a1a-4e69-a85a-4eefc50127a3",
   "metadata": {},
   "outputs": [
    {
     "name": "stdout",
     "output_type": "stream",
     "text": [
      "yooo\n",
      "test\n",
      "1\n",
      "yooo\n",
      "yooo\n",
      "test\n",
      "2\n",
      "yooo\n"
     ]
    },
    {
     "ename": "IndexError",
     "evalue": "string index out of range",
     "output_type": "error",
     "traceback": [
      "\u001b[1;31m---------------------------------------------------------------------------\u001b[0m",
      "\u001b[1;31mIndexError\u001b[0m                                Traceback (most recent call last)",
      "Cell \u001b[1;32mIn[306], line 13\u001b[0m\n\u001b[0;32m      9\u001b[0m             \u001b[38;5;28;01mif\u001b[39;00m x[i] \u001b[38;5;241m==\u001b[39m x[i]: \n\u001b[0;32m     10\u001b[0m                 \u001b[38;5;28mprint\u001b[39m (x[i])\n\u001b[1;32m---> 13\u001b[0m sequence(\u001b[38;5;241m1423\u001b[39m)\n",
      "Cell \u001b[1;32mIn[306], line 6\u001b[0m, in \u001b[0;36msequence\u001b[1;34m(n)\u001b[0m\n\u001b[0;32m      4\u001b[0m \u001b[38;5;28;01mfor\u001b[39;00m i \u001b[38;5;129;01min\u001b[39;00m \u001b[38;5;28mrange\u001b[39m(\u001b[38;5;28mlen\u001b[39m(x)):\n\u001b[0;32m      5\u001b[0m     \u001b[38;5;28mprint\u001b[39m(\u001b[38;5;124m'\u001b[39m\u001b[38;5;124myooo\u001b[39m\u001b[38;5;124m'\u001b[39m)\n\u001b[1;32m----> 6\u001b[0m     \u001b[38;5;28;01mif\u001b[39;00m x[i] \u001b[38;5;241m<\u001b[39m x[i\u001b[38;5;241m+\u001b[39m\u001b[38;5;241m1\u001b[39m]:\n\u001b[0;32m      7\u001b[0m         \u001b[38;5;28mprint\u001b[39m(\u001b[38;5;124m'\u001b[39m\u001b[38;5;124mtest\u001b[39m\u001b[38;5;124m'\u001b[39m)\n\u001b[0;32m      8\u001b[0m         output \u001b[38;5;241m=\u001b[39m x[i\u001b[38;5;241m+\u001b[39m\u001b[38;5;241m1\u001b[39m]\n",
      "\u001b[1;31mIndexError\u001b[0m: string index out of range"
     ]
    }
   ],
   "source": [
    "def sequence(n):\n",
    "    x = str(n)\n",
    "\n",
    "    for i in range(len(x)):\n",
    "        print('yooo')\n",
    "        if x[i] < x[i+1]:\n",
    "            print('test')\n",
    "            output = x[i+1]\n",
    "            if x[i] == x[i]: \n",
    "                print (x[i])\n",
    "            \n",
    "            \n",
    "sequence(1423)\n"
   ]
  },
  {
   "cell_type": "code",
   "execution_count": null,
   "id": "069ed996-090b-4323-9b87-98349142abb4",
   "metadata": {},
   "outputs": [],
   "source": []
  }
 ],
 "metadata": {
  "kernelspec": {
   "display_name": "Python 3 (ipykernel)",
   "language": "python",
   "name": "python3"
  },
  "language_info": {
   "codemirror_mode": {
    "name": "ipython",
    "version": 3
   },
   "file_extension": ".py",
   "mimetype": "text/x-python",
   "name": "python",
   "nbconvert_exporter": "python",
   "pygments_lexer": "ipython3",
   "version": "3.12.4"
  }
 },
 "nbformat": 4,
 "nbformat_minor": 5
}
